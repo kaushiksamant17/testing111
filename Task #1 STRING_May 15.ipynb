{
 "cells": [
  {
   "cell_type": "code",
   "execution_count": null,
   "id": "a8d52b5e",
   "metadata": {},
   "outputs": [],
   "source": [
    "s = \"this is My First Python programming class and i am learNING python string and its function\"\n",
    "1 . Try to extract data from index one to index 300 with a jump of 3 \n",
    "2. Try to reverse a string without using reverse function \n",
    "3. Try to split a string after conversion of entire string in uppercase \n",
    "4. try to convert the whole string into lower case \n",
    "5 . Try to capitalize the whole string \n",
    "6 . Write a diference between isalnum() and isalpha()\n",
    "7. Try to give an example of expand tab\n",
    "8 . Give an example of strip , lstrip and rstrip \n",
    "9.  Replace a string charecter by another charector by taking your own example \n",
    "\"sudhanshu\"\n",
    "10 . Try  to give a defination of string center function with and exmple \n",
    "11 . Write your own definition of compiler and interpretor without copy paste form internet in your own language\n",
    "12 . Python is a interpreted of compiled language give a clear ans with your understanding \n",
    "13 . Try to write a usecase of python with your understanding "
   ]
  },
  {
   "cell_type": "code",
   "execution_count": 1,
   "id": "f399e9ab",
   "metadata": {},
   "outputs": [],
   "source": [
    "s = \"this is My First Python programming class and i am learNING python string and its function\""
   ]
  },
  {
   "cell_type": "code",
   "execution_count": 2,
   "id": "997b654d",
   "metadata": {},
   "outputs": [
    {
     "data": {
      "text/plain": [
       "'tssyityopgmncsa alrNph rgni ni'"
      ]
     },
     "execution_count": 2,
     "metadata": {},
     "output_type": "execute_result"
    }
   ],
   "source": [
    "#1 . Try to extract data from index one to index 300 with a jump of 3 \n",
    "s[0:300:3]"
   ]
  },
  {
   "cell_type": "code",
   "execution_count": 3,
   "id": "5a7ff687",
   "metadata": {},
   "outputs": [
    {
     "data": {
      "text/plain": [
       "'noitcnuf sti dna gnirts nohtyp GNINrael ma i dna ssalc gnimmargorp nohtyP tsriF yM si siht'"
      ]
     },
     "execution_count": 3,
     "metadata": {},
     "output_type": "execute_result"
    }
   ],
   "source": [
    "#2. Try to reverse a string without using reverse function \n",
    "s[::-1]"
   ]
  },
  {
   "cell_type": "code",
   "execution_count": 6,
   "id": "cfce54cd",
   "metadata": {},
   "outputs": [
    {
     "data": {
      "text/plain": [
       "['THIS',\n",
       " 'IS',\n",
       " 'MY',\n",
       " 'FIRST',\n",
       " 'PYTHON',\n",
       " 'PROGRAMMING',\n",
       " 'CLASS',\n",
       " 'AND',\n",
       " 'I',\n",
       " 'AM',\n",
       " 'LEARNING',\n",
       " 'PYTHON',\n",
       " 'STRING',\n",
       " 'AND',\n",
       " 'ITS',\n",
       " 'FUNCTION']"
      ]
     },
     "execution_count": 6,
     "metadata": {},
     "output_type": "execute_result"
    }
   ],
   "source": [
    "#3. Try to split a string after conversion of entire string in uppercase \n",
    "s1=s.upper()\n",
    "s1.split(\" \")"
   ]
  },
  {
   "cell_type": "code",
   "execution_count": 7,
   "id": "bb26f636",
   "metadata": {},
   "outputs": [
    {
     "data": {
      "text/plain": [
       "'this is my first python programming class and i am learning python string and its function'"
      ]
     },
     "execution_count": 7,
     "metadata": {},
     "output_type": "execute_result"
    }
   ],
   "source": [
    "#4. try to convert the whole string into lower case \n",
    "s.lower()"
   ]
  },
  {
   "cell_type": "code",
   "execution_count": 9,
   "id": "8f125319",
   "metadata": {},
   "outputs": [
    {
     "data": {
      "text/plain": [
       "'This is my first python programming class and i am learning python string and its function'"
      ]
     },
     "execution_count": 9,
     "metadata": {},
     "output_type": "execute_result"
    }
   ],
   "source": [
    "#5 . Try to capitalize the whole string \n",
    "s.capitalize()"
   ]
  },
  {
   "cell_type": "code",
   "execution_count": 10,
   "id": "a69b4bbf",
   "metadata": {},
   "outputs": [],
   "source": [
    "#6 . Write a diference between isalnum() and isalpha()\n"
   ]
  },
  {
   "cell_type": "markdown",
   "id": "78964eee",
   "metadata": {},
   "source": [
    "Difference between isalpha() and isalnum() is that the isalpha()checks whether the string is having only alphabatic letter\n",
    "whereas isalnum() checks whether the string is having combination of both alphabetic letters and numbers"
   ]
  },
  {
   "cell_type": "code",
   "execution_count": 14,
   "id": "fb4506c7",
   "metadata": {},
   "outputs": [
    {
     "data": {
      "text/plain": [
       "'kaushik\\nsamant          ishere'"
      ]
     },
     "execution_count": 14,
     "metadata": {},
     "output_type": "execute_result"
    }
   ],
   "source": [
    "#7. Try to give an example of expand tab\n",
    "s =\"kaushik\\nsamant\\t\\tishere\"\n",
    "s.expandtabs()"
   ]
  },
  {
   "cell_type": "code",
   "execution_count": 15,
   "id": "895d586b",
   "metadata": {},
   "outputs": [],
   "source": [
    "#8 . Give an example of strip , lstrip and rstrip\n",
    "s1 =\"  kaushik    samant    \"\n"
   ]
  },
  {
   "cell_type": "code",
   "execution_count": 16,
   "id": "dbbb8457",
   "metadata": {},
   "outputs": [
    {
     "data": {
      "text/plain": [
       "'kaushik    samant'"
      ]
     },
     "execution_count": 16,
     "metadata": {},
     "output_type": "execute_result"
    }
   ],
   "source": [
    "s1.strip()"
   ]
  },
  {
   "cell_type": "code",
   "execution_count": 17,
   "id": "347d3704",
   "metadata": {},
   "outputs": [
    {
     "data": {
      "text/plain": [
       "'kaushik    samant    '"
      ]
     },
     "execution_count": 17,
     "metadata": {},
     "output_type": "execute_result"
    }
   ],
   "source": [
    "s1.lstrip()"
   ]
  },
  {
   "cell_type": "code",
   "execution_count": 18,
   "id": "a81bafe2",
   "metadata": {},
   "outputs": [
    {
     "data": {
      "text/plain": [
       "'  kaushik    samant'"
      ]
     },
     "execution_count": 18,
     "metadata": {},
     "output_type": "execute_result"
    }
   ],
   "source": [
    "s1.rstrip()"
   ]
  },
  {
   "cell_type": "code",
   "execution_count": 20,
   "id": "0dfcdc7f",
   "metadata": {},
   "outputs": [],
   "source": [
    "#9.  Replace a string charecter by another charector by taking your own example \n",
    "s2 =\"kaushiktest\""
   ]
  },
  {
   "cell_type": "code",
   "execution_count": 23,
   "id": "b1e4ec73",
   "metadata": {},
   "outputs": [
    {
     "data": {
      "text/plain": [
       "'7aushi7test'"
      ]
     },
     "execution_count": 23,
     "metadata": {},
     "output_type": "execute_result"
    }
   ],
   "source": [
    "s2.replace(\"k\",\"7\")"
   ]
  },
  {
   "cell_type": "code",
   "execution_count": 25,
   "id": "4bd6259e",
   "metadata": {},
   "outputs": [
    {
     "data": {
      "text/plain": [
       "'$$$$$$$$$kaushiktest$$$$$$$$$$'"
      ]
     },
     "execution_count": 25,
     "metadata": {},
     "output_type": "execute_result"
    }
   ],
   "source": [
    "#10 . Try  to give a defination of string center function with and exmple \n",
    "s2.center(30,\"$\")"
   ]
  },
  {
   "cell_type": "markdown",
   "id": "a7edd16e",
   "metadata": {},
   "source": [
    "Normally the center function returns the string  in the center with the symbols mentioned on both side and it expands till the\n",
    "size of the length mentioned."
   ]
  },
  {
   "cell_type": "code",
   "execution_count": 26,
   "id": "c4e26dd6",
   "metadata": {},
   "outputs": [],
   "source": [
    "#11 . Write your own definition of compiler and interpretor without copy paste form internet in your own language"
   ]
  },
  {
   "cell_type": "markdown",
   "id": "bd1f47b8",
   "metadata": {},
   "source": [
    "Compiler: the complier compile the code into a byte level so that is executable in the machine\n",
    "Interpreter : The interpreter interpret each line of code at a time and executes it in the machine"
   ]
  },
  {
   "cell_type": "code",
   "execution_count": null,
   "id": "e065fd81",
   "metadata": {},
   "outputs": [],
   "source": [
    "#12 . Python is a interpreted of compiled language give a clear ans with your understanding "
   ]
  },
  {
   "cell_type": "markdown",
   "id": "8fd48e39",
   "metadata": {},
   "source": [
    "Python is a interpreter language where it take each line of code at a time , the machine compiles and process it"
   ]
  },
  {
   "cell_type": "code",
   "execution_count": null,
   "id": "b8d13dfd",
   "metadata": {},
   "outputs": [],
   "source": [
    "#13 . Try to write a usecase of python with your understanding \n"
   ]
  },
  {
   "cell_type": "markdown",
   "id": "0038def2",
   "metadata": {},
   "source": [
    "Python has multiple use case in the field of technology  be it front , api development it plays a curcial role . \n",
    "The most famous use case it use in Artificial Intelligence and Machine Learning which eventually does the automation of tasks\n",
    "by doing good prediction and forecasting without human Intervention\n"
   ]
  },
  {
   "cell_type": "markdown",
   "id": "efdc0f3d",
   "metadata": {},
   "source": [
    "# REQUEST: Whereeve i go wrong or any improvement needed , would request you to provide the feedback in the notebook itself for any of the task or challenges. THANKYOU for all your support."
   ]
  }
 ],
 "metadata": {
  "kernelspec": {
   "display_name": "Python 3",
   "language": "python",
   "name": "python3"
  },
  "language_info": {
   "codemirror_mode": {
    "name": "ipython",
    "version": 3
   },
   "file_extension": ".py",
   "mimetype": "text/x-python",
   "name": "python",
   "nbconvert_exporter": "python",
   "pygments_lexer": "ipython3",
   "version": "3.7.11"
  }
 },
 "nbformat": 4,
 "nbformat_minor": 5
}
